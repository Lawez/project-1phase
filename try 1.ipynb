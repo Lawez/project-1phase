{
 "cells": [
  {
   "cell_type": "markdown",
   "metadata": {},
   "source": [
    "## Final Project Submission\n",
    "\n",
    "Please fill out:\n",
    "* Student name: Ian Tulienge\n",
    "* Student pace: Full time\n",
    "* Scheduled project review date/time: \n",
    "* Instructor name: \n",
    "* Blog post URL:\n"
   ]
  },
  {
   "cell_type": "markdown",
   "metadata": {},
   "source": [
    "\n",
    "# Data Understanding\n",
    "Data understanding is the process of getting to know your data before you start analyzing it. This involves gathering information about the data, exploring its structure, identifying its quality, and assessing its relevance to your analysis objectives."
   ]
  },
  {
   "cell_type": "code",
   "execution_count": null,
   "metadata": {},
   "outputs": [],
   "source": [
    "#importing the required libraries\n",
    "import pandas as pd\n",
    "import numpy as np\n",
    "import seaborn as sns\n",
    "import matplotlib.pyplot as plt\n",
    "%matplotlib inline\n"
   ]
  },
  {
   "cell_type": "code",
   "execution_count": null,
   "metadata": {},
   "outputs": [],
   "source": [
    "# Reading the bom movie data set\n",
    "df=pd.read_csv('bom.movie_gross.csv')\n",
    "df"
   ]
  },
  {
   "cell_type": "code",
   "execution_count": null,
   "metadata": {},
   "outputs": [],
   "source": [
    "import sqlite3\n",
    "\n",
    "# Connect to the SQLite database\n",
    "conn = sqlite3.connect('im.db')\n",
    "\n",
    "# Create a cursor object\n",
    "cursor = conn.cursor()\n",
    "\n",
    "# Execute a SQL query to select all the columns from the movie_basics table\n",
    "query = \"SELECT * FROM movie_basics;\"\n",
    "cursor.execute(query)\n",
    "\n",
    "# Retrieve the results of the query\n",
    "results = cursor.fetchall()\n",
    "\n"
   ]
  },
  {
   "cell_type": "code",
   "execution_count": null,
   "metadata": {},
   "outputs": [],
   "source": [
    "#Reading of data from the movie_basics table in SQLite database using Pandas and displays the resulting DataFrame.\n",
    "movie_basics = pd.read_sql_query(\"SELECT * FROM movie_basics\", conn)\n",
    "movie_basics"
   ]
  },
  {
   "cell_type": "code",
   "execution_count": null,
   "metadata": {},
   "outputs": [],
   "source": [
    "# Connect to the SQLite database\n",
    "conn = sqlite3.connect('im.db')\n",
    "\n",
    "# Create a cursor object\n",
    "cursor = conn.cursor()\n",
    "\n",
    "# Execute a SQL query to select all the columns from the movie_ratings table\n",
    "query = \"SELECT * FROM movie_ratings;\"\n",
    "cursor.execute(query)\n",
    "\n",
    "# Retrieve the results of the query\n",
    "results = cursor.fetchall()\n",
    "\n"
   ]
  },
  {
   "cell_type": "code",
   "execution_count": null,
   "metadata": {},
   "outputs": [],
   "source": [
    "#Reading of data from the movie_ratings table in SQLite database using Pandas and displays the resulting DataFrame.\n",
    "movie_ratings = pd.read_sql_query(\"SELECT * FROM movie_ratings\", conn)\n",
    "movie_ratings"
   ]
  },
  {
   "cell_type": "code",
   "execution_count": null,
   "metadata": {},
   "outputs": [],
   "source": [
    "#Merging the two tables together\n",
    "merged_data = pd.merge(movie_basics, movie_ratings, on='movie_id')\n",
    "merged_data"
   ]
  },
  {
   "cell_type": "code",
   "execution_count": null,
   "metadata": {},
   "outputs": [],
   "source": [
    "#Renaming primary name to title in the movie_basics and movie_ratings merged data\n",
    "df1=merged_data #defing merged data as df1\n",
    "df1 = df1.rename(columns={'primary_title': 'title'})\n",
    "df1"
   ]
  },
  {
   "cell_type": "code",
   "execution_count": null,
   "metadata": {},
   "outputs": [],
   "source": [
    "#merging df1 data to our bom.movie_gross that is define as df\n",
    "final_data = pd.merge(df, df1, on='title')\n",
    "final_data #Defining my new data as final_data"
   ]
  },
  {
   "cell_type": "code",
   "execution_count": null,
   "metadata": {},
   "outputs": [],
   "source": [
    "#Cheaking the shape of our data\n",
    "final_data.shape"
   ]
  },
  {
   "cell_type": "code",
   "execution_count": null,
   "metadata": {},
   "outputs": [],
   "source": [
    "#Cheaking information about our data\n",
    "final_data.info()"
   ]
  },
  {
   "cell_type": "code",
   "execution_count": null,
   "metadata": {},
   "outputs": [],
   "source": [
    "#provides information such as count, mean, standard deviation, minimum and maximum values, as well as the quartiles of the data.\n",
    "final_data.describe()"
   ]
  },
  {
   "cell_type": "markdown",
   "metadata": {},
   "source": [
    "## Perfoming EDA analysis\n",
    "It is a way of analyzing, visualizing and summarizing data in order to understand its characteristics and identify patterns and trends.\n",
    "###  Data cleaning\n",
    "This involves checking the data for any missing or inconsistent values, and correcting or removing them as necessary.\n",
    "#### Identifying missing values"
   ]
  },
  {
   "cell_type": "code",
   "execution_count": null,
   "metadata": {},
   "outputs": [],
   "source": [
    "#cheaking for missing values where it returns True for missing values\n",
    "final_data.isnull()"
   ]
  },
  {
   "cell_type": "code",
   "execution_count": null,
   "metadata": {},
   "outputs": [],
   "source": [
    "#Identfying of missing values and getting the sum of each column\n",
    "final_data.isnull().sum().sort_values(ascending=False) # sort_values(ascending=False) arranges the values in descending order"
   ]
  },
  {
   "cell_type": "markdown",
   "metadata": {},
   "source": [
    "#### The following do not require  any fills:\n",
    "     title\n",
    "     year\n",
    "     movie_id\n",
    "     original_title\n",
    "     start_year\n",
    "     averagerating\n",
    "     numvotes\n",
    "#### The following are missing data:\n",
    "     studio\n",
    "     domestic_gross\n",
    "     foreign_gross\n",
    "     runtime_minutes\n",
    "     genres\n",
    "     "
   ]
  },
  {
   "cell_type": "code",
   "execution_count": null,
   "metadata": {},
   "outputs": [],
   "source": [
    "#Checking percentage of missing values and arrange it in decending order\n",
    "percent_missing = final_data.isna().sum().sort_values(ascending=False)* 100 / len(df)\n",
    "percent_missing"
   ]
  },
  {
   "cell_type": "markdown",
   "metadata": {},
   "source": [
    "foreign_gross contains more than half of the null values this can be shown by a heatmap below"
   ]
  },
  {
   "cell_type": "code",
   "execution_count": null,
   "metadata": {},
   "outputs": [],
   "source": [
    "# Using heatmap to show null values\n",
    "sns.heatmap(final_data.isna())"
   ]
  },
  {
   "cell_type": "markdown",
   "metadata": {},
   "source": [
    "Hence I consider removing foreign_gross from my dataset"
   ]
  },
  {
   "cell_type": "code",
   "execution_count": null,
   "metadata": {},
   "outputs": [],
   "source": [
    "#Dropping foreign_gross from the data\n",
    "new_data = final_data.drop('foreign_gross', axis=1) \n",
    "new_data #Renaming my data as new_data"
   ]
  },
  {
   "cell_type": "code",
   "execution_count": null,
   "metadata": {},
   "outputs": [],
   "source": [
    "#Identifying missing values of runtime_minutes\n",
    "new_data[new_data.runtime_minutes.isnull() ]"
   ]
  },
  {
   "cell_type": "code",
   "execution_count": null,
   "metadata": {},
   "outputs": [],
   "source": [
    "#Identifying missing values of domestic_gross \n",
    "new_data[new_data.domestic_gross.isnull()]"
   ]
  },
  {
   "cell_type": "markdown",
   "metadata": {},
   "source": [
    "#### Filling out missing values by mean()"
   ]
  },
  {
   "cell_type": "code",
   "execution_count": null,
   "metadata": {},
   "outputs": [],
   "source": [
    "#Filling runtime_minutes missing values with the mean of runtime_minutes (107.2395110670631)\n",
    "mean_runtime = new_data['runtime_minutes'].mean()\n",
    "new_data['runtime_minutes'].fillna(mean_runtime, inplace=True)\n",
    "new_data[new_data.runtime_minutes.isnull() ] # Cheaking if runtime_minutes missing values have been filled"
   ]
  },
  {
   "cell_type": "code",
   "execution_count": null,
   "metadata": {},
   "outputs": [],
   "source": [
    "#Filling  missing values with the mean of domestic_gross (30640331.54076539)\n",
    "mean_runtime = new_data['domestic_gross'].mean()\n",
    "new_data['domestic_gross'].fillna(mean_runtime, inplace=True)\n",
    "new_data[new_data.domestic_gross.isnull() ] # Cheaking if domestic_gross missing values have been filled"
   ]
  },
  {
   "cell_type": "markdown",
   "metadata": {},
   "source": [
    " I have fill missing values of runtime_minutes and  domestic_gross missing values with there respectively means ie \n",
    " (107.2395110670631 and 30640331.54076539) "
   ]
  },
  {
   "cell_type": "markdown",
   "metadata": {},
   "source": [
    "#### Filling missing values by backward filling method\n"
   ]
  },
  {
   "cell_type": "code",
   "execution_count": null,
   "metadata": {},
   "outputs": [],
   "source": [
    "new_data.fillna(method='bfill', inplace=True) \n",
    "# filling missing values by backward filling method in place, \n",
    "#which means that the original DataFrame is being updated with the new values rather than creating a new DataFrame\n",
    "new_data                                       "
   ]
  },
  {
   "cell_type": "code",
   "execution_count": null,
   "metadata": {},
   "outputs": [],
   "source": [
    "#Cheaking of missing value to ensure they have been filled \n",
    "new_data.isnull().sum()"
   ]
  },
  {
   "cell_type": "markdown",
   "metadata": {},
   "source": [
    "No missing values"
   ]
  },
  {
   "cell_type": "markdown",
   "metadata": {},
   "source": [
    "#### Cheaking for duplicates"
   ]
  },
  {
   "cell_type": "code",
   "execution_count": null,
   "metadata": {},
   "outputs": [],
   "source": [
    "# checks for duplicates and list them\n",
    "new_data[final_data.duplicated()]"
   ]
  },
  {
   "cell_type": "markdown",
   "metadata": {},
   "source": [
    "No duplicates values"
   ]
  },
  {
   "cell_type": "markdown",
   "metadata": {},
   "source": [
    "## Visualizations\n",
    "\n",
    "#### Lets look at  the top ten genres that have been watched"
   ]
  },
  {
   "cell_type": "code",
   "execution_count": null,
   "metadata": {},
   "outputs": [],
   "source": [
    "# value_counts() method shows the count of different categories in a given column \n",
    "new_data['genres'].value_counts().head(10)"
   ]
  },
  {
   "cell_type": "code",
   "execution_count": null,
   "metadata": {
    "scrolled": true
   },
   "outputs": [],
   "source": [
    "plt.figure(figsize=(12,6)) # create a figure and axis object\n",
    "# create a countplot\n",
    "sns.countplot(x='genres',order=new_data['genres'].value_counts().index[0:10],data=new_data)\n",
    "plt.title('genres of movie by count') # add a title to the plot"
   ]
  },
  {
   "cell_type": "markdown",
   "metadata": {},
   "source": [
    " #####  Here a count plot is displayed  with the genres being displayed "
   ]
  },
  {
   "cell_type": "markdown",
   "metadata": {},
   "source": [
    "##### Lets look at the top 10 studios in movie production"
   ]
  },
  {
   "cell_type": "code",
   "execution_count": null,
   "metadata": {},
   "outputs": [],
   "source": [
    "# create a figure and axis object\n",
    "plt.figure(figsize=(12,6))\n",
    "# create a countplot\n",
    "sns.countplot(y='studio',order=new_data['studio'].value_counts().index[0:10], data=new_data)\n",
    "plt.title('Top 10 studios in productuion of movies ') # add a title to the plot"
   ]
  },
  {
   "cell_type": "markdown",
   "metadata": {},
   "source": [
    "##### Lets check at major ratings given to bom movies"
   ]
  },
  {
   "cell_type": "code",
   "execution_count": null,
   "metadata": {},
   "outputs": [],
   "source": [
    "new_data.averagerating.value_counts()"
   ]
  },
  {
   "cell_type": "code",
   "execution_count": null,
   "metadata": {},
   "outputs": [],
   "source": [
    "plt.figure(figsize=(12,6)) # create a figure and axis object\n",
    "# create a countplot\n",
    "sns.countplot(x='averagerating',order=new_data['averagerating'].value_counts().index[0:10],data=new_data)\n",
    "plt.title('Ratings of movies on bom vs Count') # add a title to the plot"
   ]
  },
  {
   "cell_type": "markdown",
   "metadata": {},
   "source": [
    "Most movies have an average of 6.8 and 6.4"
   ]
  },
  {
   "cell_type": "markdown",
   "metadata": {},
   "source": [
    "#### visualization of  averageratings based on numvotes on bom movies"
   ]
  },
  {
   "cell_type": "code",
   "execution_count": null,
   "metadata": {},
   "outputs": [],
   "source": [
    "# Create a scatter plot\n",
    "new_data.plot(x='averagerating', y='numvotes', kind='scatter')\n",
    "\n",
    "# Set the x and y axis labels\n",
    "plt.xlabel('averageRating')\n",
    "plt.ylabel('numvotes')\n",
    "\n",
    "# Set the title of the graph\n",
    "plt.title('Average Rating vs.Number of Votes')\n",
    "plt.show()"
   ]
  },
  {
   "cell_type": "markdown",
   "metadata": {},
   "source": [
    "A strong relationship between averagerating and numvotes a positive relationship, where increases in numvotes associated with increases in averagerating.\n",
    "In the graph, we can conclude that the public often appreciates the movie and generally gives a score between 5/10\n"
   ]
  },
  {
   "cell_type": "markdown",
   "metadata": {},
   "source": [
    "#### Lets find out movie with the maximum averagerating"
   ]
  },
  {
   "cell_type": "code",
   "execution_count": null,
   "metadata": {},
   "outputs": [],
   "source": [
    "new_data.averagerating.max()"
   ]
  },
  {
   "cell_type": "code",
   "execution_count": null,
   "metadata": {},
   "outputs": [],
   "source": [
    "# Sort the movies based on the number of ratings in descending order\n",
    "sorted_movies = new_data.sort_values('averagerating', ascending=False)\n",
    "\n",
    "# Select the movie with the highest number of ratings (i.e., the first row in the sorted dataframe)\n",
    "highest_rated_movie = sorted_movies.iloc[0]\n",
    "\n",
    "# Print out the title of the highest rated movie and its number of ratings\n",
    "print('The movie with the highest number of ratings is', highest_rated_movie['title'], 'with', highest_rated_movie['averagerating'], 'ratings.')\n"
   ]
  },
  {
   "cell_type": "markdown",
   "metadata": {},
   "source": [
    "The Runaways  is  the highest rated movie in bom ratings"
   ]
  },
  {
   "cell_type": "markdown",
   "metadata": {},
   "source": [
    "#### Lets  find out movie with maximum number of votes"
   ]
  },
  {
   "cell_type": "code",
   "execution_count": null,
   "metadata": {},
   "outputs": [],
   "source": [
    "# Sort the movies based on the number of votes in descending order\n",
    "sorted_movies = new_data.sort_values('numvotes', ascending=False)\n",
    "\n",
    "# Select the movie with the highest number of votes (i.e., the first row in the sorted dataframe)\n",
    "highest_voted_movie = sorted_movies.iloc[0]\n",
    "\n",
    "# Print out the title of the highest voted movie and its number of votes\n",
    "print('The movie with the highest number of votes is', highest_voted_movie['title'], 'with', highest_voted_movie['numvotes'], 'votes.')\n"
   ]
  },
  {
   "cell_type": "markdown",
   "metadata": {},
   "source": [
    "Inception is the best movie in bom by votes"
   ]
  },
  {
   "cell_type": "markdown",
   "metadata": {},
   "source": [
    "#### Lets find out movie genre with the highest ratings"
   ]
  },
  {
   "cell_type": "code",
   "execution_count": null,
   "metadata": {},
   "outputs": [],
   "source": [
    "# Group by genre and calculate the mean rating\n",
    "genre_ratings = new_data.groupby('genres')['averagerating'].mean()\n",
    "\n",
    "# Get the genres with the highest rating\n",
    "highest_rated_genres = genre_ratings[genre_ratings == genre_ratings.max()]\n",
    "\n",
    "# Print the genres with the highest rating\n",
    "print('Genres with the highest rating:')\n",
    "for genre in highest_rated_genres.index:\n",
    "    print(genre)\n"
   ]
  },
  {
   "cell_type": "markdown",
   "metadata": {},
   "source": [
    "Adventure genre is the movie with the highest ratings"
   ]
  },
  {
   "cell_type": "markdown",
   "metadata": {},
   "source": [
    "#### Lets find out  movie genre with the highest number of votes"
   ]
  },
  {
   "cell_type": "code",
   "execution_count": null,
   "metadata": {},
   "outputs": [],
   "source": [
    "# Group by genre and sum the number of votes\n",
    "genre_votes = new_data.groupby('genres')['numvotes'].sum()\n",
    "\n",
    "# Get the genre with the highest number of votes\n",
    "highest_voted_genre = genre_votes.idxmax()\n",
    "\n",
    "# Print the genre with the highest number of votes\n",
    "print(f'Genre with the highest number of votes: {highest_voted_genre}')\n"
   ]
  },
  {
   "cell_type": "markdown",
   "metadata": {},
   "source": [
    " Action,Adventure and Sci-Fi are the highest voted genres"
   ]
  },
  {
   "cell_type": "markdown",
   "metadata": {},
   "source": [
    "#### Lets find out movie genre with the highest domestic gross\n"
   ]
  },
  {
   "cell_type": "code",
   "execution_count": null,
   "metadata": {},
   "outputs": [],
   "source": [
    "# Group by genre and sum the domestic gross\n",
    "genre_gross = new_data.groupby('genres')['domestic_gross'].sum()\n",
    "\n",
    "# Get the genre with the highest domestic gross\n",
    "highest_gross_genre = genre_gross.idxmax()\n",
    "\n",
    "# Print the genre with the highest domestic gross\n",
    "print(f'Genre with the highest domestic gross: {highest_gross_genre}')\n"
   ]
  },
  {
   "cell_type": "markdown",
   "metadata": {},
   "source": [
    "Action,Adventure and Sci-Fi have the highest domestic gross"
   ]
  },
  {
   "cell_type": "markdown",
   "metadata": {},
   "source": [
    "#### Lets find out  the top 10 genres with average runtime  and average no of votes"
   ]
  },
  {
   "cell_type": "code",
   "execution_count": null,
   "metadata": {},
   "outputs": [],
   "source": [
    "# Group by genre and calculate the mean runtime and mean number of votes\n",
    "genre_stats = new_data.groupby('genres').agg({'runtime_minutes': 'mean', 'numvotes': 'mean'})\n",
    "\n",
    "# Get the top 10 genres with the highest average number of votes\n",
    "top_genres = genre_stats.sort_values(by='numvotes', ascending=False).head(10)\n",
    "\n",
    "# Reset the index to start from 1\n",
    "top_genres = top_genres.reset_index().rename(columns={'genres': 'Genre', 'runtime_minutes': 'Average Runtime (minutes)', 'numvotes': 'Average Votes'})\n",
    "top_genres.index = pd.RangeIndex(start=1, stop=len(top_genres)+1)\n",
    "\n",
    "# Print the top 10 genres in a table with an index starting from 1\n",
    "print('Top 10 genres with highest average number of votes and average runtime:')\n",
    "print(top_genres.to_string(index=True, justify='left'))\n"
   ]
  },
  {
   "cell_type": "code",
   "execution_count": null,
   "metadata": {},
   "outputs": [],
   "source": []
  }
 ],
 "metadata": {
  "kernelspec": {
   "display_name": "Python 3",
   "language": "python",
   "name": "python3"
  },
  "language_info": {
   "codemirror_mode": {
    "name": "ipython",
    "version": 3
   },
   "file_extension": ".py",
   "mimetype": "text/x-python",
   "name": "python",
   "nbconvert_exporter": "python",
   "pygments_lexer": "ipython3",
   "version": "3.8.5"
  }
 },
 "nbformat": 4,
 "nbformat_minor": 2
}
